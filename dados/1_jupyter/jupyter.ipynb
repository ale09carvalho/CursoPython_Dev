{
 "cells": [
  {
   "cell_type": "code",
   "execution_count": null,
   "id": "e96a3c49",
   "metadata": {},
   "outputs": [],
   "source": [
    "DIGITAR O TEXTO. ..."
   ]
  },
  {
   "cell_type": "markdown",
   "id": "194cf15d",
   "metadata": {},
   "source": [
    "NOVO MARKDOWN.."
   ]
  },
  {
   "cell_type": "markdown",
   "id": "f688f14c",
   "metadata": {},
   "source": [
    "# Titulo do meu texto\n",
    "---"
   ]
  },
  {
   "cell_type": "markdown",
   "id": "76ddc76f",
   "metadata": {},
   "source": [
    "## Subtítulo\n"
   ]
  },
  {
   "cell_type": "markdown",
   "id": "d8bd214d",
   "metadata": {},
   "source": [
    "### Titulo 3"
   ]
  },
  {
   "cell_type": "markdown",
   "id": "c5bfd9a9",
   "metadata": {},
   "source": [
    "Exemplificar um código em Python (utilizando codigo entre crase `  `)  - `print(\"Olá, mundo!\")`"
   ]
  },
  {
   "cell_type": "markdown",
   "id": "4efbf9cf",
   "metadata": {},
   "source": [
    "Código em Java `System.out.println(\"Olá, mundo\"); `"
   ]
  },
  {
   "cell_type": "markdown",
   "id": "63e83650",
   "metadata": {},
   "source": [
    "Código-fonte completo em Java (colocar entr til ~~~ ** ~~~)\n",
    "\n",
    "~~~Java\n",
    "public class App {\n",
    "    public static void main(String[]args) thrwos Exception {\n",
    "        System.out.println(\"Olá, mundo\");\n",
    "    }\n",
    "}\n",
    "~~~"
   ]
  },
  {
   "cell_type": "code",
   "execution_count": 1,
   "id": "9a84f810",
   "metadata": {},
   "outputs": [
    {
     "name": "stdout",
     "output_type": "stream",
     "text": [
      "Olá, mundo!!\n"
     ]
    }
   ],
   "source": [
    "print(\"Olá, mundo!!\")"
   ]
  }
 ],
 "metadata": {
  "kernelspec": {
   "display_name": ".venv",
   "language": "python",
   "name": "python3"
  },
  "language_info": {
   "codemirror_mode": {
    "name": "ipython",
    "version": 3
   },
   "file_extension": ".py",
   "mimetype": "text/x-python",
   "name": "python",
   "nbconvert_exporter": "python",
   "pygments_lexer": "ipython3",
   "version": "3.13.4"
  }
 },
 "nbformat": 4,
 "nbformat_minor": 5
}
